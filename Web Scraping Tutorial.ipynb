{
 "cells": [
  {
   "cell_type": "code",
   "execution_count": 1,
   "id": "43f9565a",
   "metadata": {},
   "outputs": [],
   "source": [
    "#Code to get header (h2) from website and print first header "
   ]
  },
  {
   "cell_type": "code",
   "execution_count": 2,
   "id": "f88f060a",
   "metadata": {},
   "outputs": [
    {
     "name": "stdout",
     "output_type": "stream",
     "text": [
      "<h2>A Header</h2>\n"
     ]
    }
   ],
   "source": [
    "import requests\n",
    "from bs4 import BeautifulSoup as bs\n",
    "\n",
    "r= requests.get (\"https://keithgalli.github.io/web-scraping/example.html\")\n",
    "soup = bs(r.content)\n",
    "\n",
    "first_header = soup.find(\"h2\")\n",
    "print(first_header)\n"
   ]
  },
  {
   "cell_type": "code",
   "execution_count": 3,
   "id": "4fe9c034",
   "metadata": {},
   "outputs": [],
   "source": [
    "#Code to get *First header from website and print first header as a list"
   ]
  },
  {
   "cell_type": "code",
   "execution_count": 4,
   "id": "a84ea328",
   "metadata": {},
   "outputs": [
    {
     "name": "stdout",
     "output_type": "stream",
     "text": [
      "<h1>HTML Webpage</h1>\n"
     ]
    }
   ],
   "source": [
    "first_header1 = soup.find([\"h1\", \"h2\"])\n",
    "print(first_header1)"
   ]
  },
  {
   "cell_type": "code",
   "execution_count": 5,
   "id": "33ac9c59",
   "metadata": {},
   "outputs": [],
   "source": [
    "#Find all h(Heading) tags "
   ]
  },
  {
   "cell_type": "code",
   "execution_count": 6,
   "id": "3ee5bbcd",
   "metadata": {},
   "outputs": [
    {
     "data": {
      "text/plain": [
       "[<h1>HTML Webpage</h1>, <h2>A Header</h2>, <h2>Another header</h2>]"
      ]
     },
     "execution_count": 6,
     "metadata": {},
     "output_type": "execute_result"
    }
   ],
   "source": [
    "headers = soup.find_all([\"h1\", \"h2\"])\n",
    "headers"
   ]
  },
  {
   "cell_type": "code",
   "execution_count": 7,
   "id": "271e6cc7",
   "metadata": {},
   "outputs": [],
   "source": [
    "# pass attributes to the find/find_all function"
   ]
  },
  {
   "cell_type": "code",
   "execution_count": 8,
   "id": "c2f27187",
   "metadata": {},
   "outputs": [
    {
     "data": {
      "text/plain": [
       "[<p>Link to more interesting example: <a href=\"https://keithgalli.github.io/web-scraping/webpage.html\">keithgalli.github.io/web-scraping/webpage.html</a></p>,\n",
       " <p><i>Some italicized text</i></p>,\n",
       " <p id=\"paragraph-id\"><b>Some bold text</b></p>]"
      ]
     },
     "execution_count": 8,
     "metadata": {},
     "output_type": "execute_result"
    }
   ],
   "source": [
    "paragraph = soup.find_all(\"p\")\n",
    "paragraph"
   ]
  },
  {
   "cell_type": "code",
   "execution_count": 9,
   "id": "5f2f60d3",
   "metadata": {},
   "outputs": [],
   "source": [
    "# pass specific attributes (*paragraph-id) to the find/find_all function"
   ]
  },
  {
   "cell_type": "code",
   "execution_count": 10,
   "id": "c0564d29",
   "metadata": {},
   "outputs": [
    {
     "data": {
      "text/plain": [
       "[<p id=\"paragraph-id\"><b>Some bold text</b></p>]"
      ]
     },
     "execution_count": 10,
     "metadata": {},
     "output_type": "execute_result"
    }
   ],
   "source": [
    "paragraph = soup.find_all(\"p\", attrs={\"id\": \"paragraph-id\"})\n",
    "paragraph"
   ]
  },
  {
   "cell_type": "code",
   "execution_count": 11,
   "id": "3a23665f",
   "metadata": {},
   "outputs": [],
   "source": [
    "# You can nest find/find_a;; calls "
   ]
  },
  {
   "cell_type": "code",
   "execution_count": 12,
   "id": "6adc7a8d",
   "metadata": {},
   "outputs": [
    {
     "data": {
      "text/plain": [
       "<h1>HTML Webpage</h1>"
      ]
     },
     "execution_count": 12,
     "metadata": {},
     "output_type": "execute_result"
    }
   ],
   "source": [
    "body = soup.find('body')\n",
    "div = body.find('div')\n",
    "header = div.find('h1')\n",
    "header"
   ]
  },
  {
   "cell_type": "code",
   "execution_count": 13,
   "id": "c6a7c72a",
   "metadata": {},
   "outputs": [],
   "source": [
    "#seach for specific strings with RegEx (re = regex)"
   ]
  },
  {
   "cell_type": "code",
   "execution_count": 17,
   "id": "d81cb146",
   "metadata": {},
   "outputs": [
    {
     "data": {
      "text/plain": [
       "[<p><i>Some italicized text</i></p>,\n",
       " <p id=\"paragraph-id\"><b>Some bold text</b></p>]"
      ]
     },
     "execution_count": 17,
     "metadata": {},
     "output_type": "execute_result"
    }
   ],
   "source": [
    "import re\n",
    "\n",
    "some = soup.find_all(\"p\", string=re.compile(\"Some\"))\n",
    "some\n",
    "\n"
   ]
  },
  {
   "cell_type": "code",
   "execution_count": 24,
   "id": "3032e86f",
   "metadata": {},
   "outputs": [],
   "source": [
    "#seach for specific strings with RegEx (re = regex) "
   ]
  },
  {
   "cell_type": "code",
   "execution_count": 25,
   "id": "ce0bcf1d",
   "metadata": {},
   "outputs": [
    {
     "data": {
      "text/plain": [
       "[<h2>A Header</h2>, <h2>Another header</h2>]"
      ]
     },
     "execution_count": 25,
     "metadata": {},
     "output_type": "execute_result"
    }
   ],
   "source": [
    "import re\n",
    "\n",
    "headers = soup.find_all(\"h2\", string=re.compile(\"(H|h)eader\"))\n",
    "headers"
   ]
  },
  {
   "cell_type": "code",
   "execution_count": 27,
   "id": "7696a249",
   "metadata": {},
   "outputs": [],
   "source": [
    "#Select content  (CSS) https://www.w3schools.com/cssref/css_selectors.asp"
   ]
  },
  {
   "cell_type": "code",
   "execution_count": 30,
   "id": "7f353ab2",
   "metadata": {},
   "outputs": [
    {
     "data": {
      "text/plain": [
       "[<p>Link to more interesting example: <a href=\"https://keithgalli.github.io/web-scraping/webpage.html\">keithgalli.github.io/web-scraping/webpage.html</a></p>]"
      ]
     },
     "execution_count": 30,
     "metadata": {},
     "output_type": "execute_result"
    }
   ],
   "source": [
    "content = soup.select(\"div p\")\n",
    "content "
   ]
  },
  {
   "cell_type": "code",
   "execution_count": 31,
   "id": "71907bd2",
   "metadata": {},
   "outputs": [
    {
     "data": {
      "text/plain": [
       "[<p><i>Some italicized text</i></p>,\n",
       " <p id=\"paragraph-id\"><b>Some bold text</b></p>]"
      ]
     },
     "execution_count": 31,
     "metadata": {},
     "output_type": "execute_result"
    }
   ],
   "source": [
    "paragraph = soup.select(\"h2 ~p\")\n",
    "paragraph"
   ]
  },
  {
   "cell_type": "code",
   "execution_count": null,
   "id": "86d32d7b",
   "metadata": {},
   "outputs": [],
   "source": []
  }
 ],
 "metadata": {
  "kernelspec": {
   "display_name": "Python 3 (ipykernel)",
   "language": "python",
   "name": "python3"
  },
  "language_info": {
   "codemirror_mode": {
    "name": "ipython",
    "version": 3
   },
   "file_extension": ".py",
   "mimetype": "text/x-python",
   "name": "python",
   "nbconvert_exporter": "python",
   "pygments_lexer": "ipython3",
   "version": "3.9.5"
  }
 },
 "nbformat": 4,
 "nbformat_minor": 5
}
